{
  "nbformat": 4,
  "nbformat_minor": 0,
  "metadata": {
    "colab": {
      "name": "Testing_AMSBound_Penn_Treebank_2_LSTM.ipynb",
      "provenance": [],
      "collapsed_sections": [],
      "toc_visible": true
    },
    "kernelspec": {
      "name": "python3",
      "display_name": "Python 3"
    },
    "accelerator": "GPU"
  },
  "cells": [
    {
      "cell_type": "markdown",
      "metadata": {
        "id": "RQV9LbVMZ5NG",
        "colab_type": "text"
      },
      "source": [
        "# Prepare Penn Treebank dataset"
      ]
    },
    {
      "cell_type": "code",
      "metadata": {
        "id": "8i4alBSvwgfO",
        "colab_type": "code",
        "outputId": "828b9abc-89fe-471f-ba9c-18608370883f",
        "colab": {
          "base_uri": "https://localhost:8080/",
          "height": 188
        }
      },
      "source": [
        "!pip install torchbearer"
      ],
      "execution_count": 0,
      "outputs": [
        {
          "output_type": "stream",
          "text": [
            "Collecting torchbearer\n",
            "\u001b[?25l  Downloading https://files.pythonhosted.org/packages/ff/e9/4049a47dd2e5b6346a2c5d215b0c67dce814afbab1cd54ce024533c4834e/torchbearer-0.5.3-py3-none-any.whl (138kB)\n",
            "\r\u001b[K     |██▍                             | 10kB 21.8MB/s eta 0:00:01\r\u001b[K     |████▊                           | 20kB 3.2MB/s eta 0:00:01\r\u001b[K     |███████▏                        | 30kB 3.7MB/s eta 0:00:01\r\u001b[K     |█████████▌                      | 40kB 3.9MB/s eta 0:00:01\r\u001b[K     |███████████▉                    | 51kB 3.7MB/s eta 0:00:01\r\u001b[K     |██████████████▎                 | 61kB 4.1MB/s eta 0:00:01\r\u001b[K     |████████████████▋               | 71kB 4.5MB/s eta 0:00:01\r\u001b[K     |███████████████████             | 81kB 4.9MB/s eta 0:00:01\r\u001b[K     |█████████████████████▍          | 92kB 5.0MB/s eta 0:00:01\r\u001b[K     |███████████████████████▊        | 102kB 4.8MB/s eta 0:00:01\r\u001b[K     |██████████████████████████      | 112kB 4.8MB/s eta 0:00:01\r\u001b[K     |████████████████████████████▌   | 122kB 4.8MB/s eta 0:00:01\r\u001b[K     |██████████████████████████████▉ | 133kB 4.8MB/s eta 0:00:01\r\u001b[K     |████████████████████████████████| 143kB 4.8MB/s \n",
            "\u001b[?25hRequirement already satisfied: tqdm in /usr/local/lib/python3.6/dist-packages (from torchbearer) (4.41.1)\n",
            "Requirement already satisfied: numpy in /usr/local/lib/python3.6/dist-packages (from torchbearer) (1.18.4)\n",
            "Requirement already satisfied: torch>=1.0.0 in /usr/local/lib/python3.6/dist-packages (from torchbearer) (1.5.0+cu101)\n",
            "Requirement already satisfied: future in /usr/local/lib/python3.6/dist-packages (from torch>=1.0.0->torchbearer) (0.16.0)\n",
            "Installing collected packages: torchbearer\n",
            "Successfully installed torchbearer-0.5.3\n"
          ],
          "name": "stdout"
        }
      ]
    },
    {
      "cell_type": "code",
      "metadata": {
        "id": "KhEeh6x8Z9eE",
        "colab_type": "code",
        "colab": {}
      },
      "source": [
        "# automatically reload external modules if they change\n",
        "%load_ext autoreload\n",
        "%autoreload 2\n",
        "\n",
        "import torch\n",
        "import torch.nn as nn\n",
        "import torch.optim as optim\n",
        "import torch.nn.functional as F\n",
        "from torchtext import data\n",
        "from torchtext import vocab\n",
        "from torchtext import datasets\n",
        "\n",
        "import numpy as np\n",
        "from matplotlib import pyplot as plt\n",
        "\n",
        "from tqdm import tqdm"
      ],
      "execution_count": 0,
      "outputs": []
    },
    {
      "cell_type": "code",
      "metadata": {
        "id": "NWmejPqvd93t",
        "colab_type": "code",
        "outputId": "0fd91738-679d-4c97-f085-53b7c8b85f6d",
        "colab": {
          "base_uri": "https://localhost:8080/",
          "height": 168
        }
      },
      "source": [
        "tokenize = lambda x: x.split()\n",
        "TEXT = data.Field(sequential = True, tokenize = tokenize, lower = True, batch_first = True)\n",
        "train_dataset, val_dataset, test_dataset = datasets.PennTreebank.splits(TEXT)\n",
        "TEXT.build_vocab(train_dataset, vectors=vocab.GloVe(name='6B', dim=300))\n",
        "\n",
        "vocab_size = len(TEXT.vocab)\n",
        "word_embeddings = TEXT.vocab.vectors\n",
        "print(vocab_size)\n",
        "print(word_embeddings.size())\n",
        "embeddings_length = 300\n",
        "hidden_size = 256\n",
        "batch_size = 32"
      ],
      "execution_count": 0,
      "outputs": [
        {
          "output_type": "stream",
          "text": [
            "downloading ptb.train.txt\n"
          ],
          "name": "stdout"
        },
        {
          "output_type": "stream",
          "text": [
            "ptb.train.txt: 5.10MB [00:00, 31.8MB/s]\n"
          ],
          "name": "stderr"
        },
        {
          "output_type": "stream",
          "text": [
            "downloading ptb.valid.txt\n"
          ],
          "name": "stdout"
        },
        {
          "output_type": "stream",
          "text": [
            "ptb.valid.txt: 400kB [00:00, 16.8MB/s]                   \n"
          ],
          "name": "stderr"
        },
        {
          "output_type": "stream",
          "text": [
            "downloading ptb.test.txt\n"
          ],
          "name": "stdout"
        },
        {
          "output_type": "stream",
          "text": [
            "ptb.test.txt: 450kB [00:00, 19.0MB/s]                   \n",
            ".vector_cache/glove.6B.zip: 862MB [06:27, 2.23MB/s]                          \n",
            "100%|█████████▉| 399843/400000 [00:38<00:00, 10397.97it/s]"
          ],
          "name": "stderr"
        },
        {
          "output_type": "stream",
          "text": [
            "10001\n",
            "torch.Size([10001, 300])\n"
          ],
          "name": "stdout"
        }
      ]
    },
    {
      "cell_type": "code",
      "metadata": {
        "id": "5Hl-iXexfSWl",
        "colab_type": "code",
        "colab": {}
      },
      "source": [
        "train_iter, val_iter, test_iter = data.BPTTIterator.splits((train_dataset, val_dataset, test_dataset), batch_size = 32, bptt_len=30, repeat=False)"
      ],
      "execution_count": 0,
      "outputs": []
    },
    {
      "cell_type": "code",
      "metadata": {
        "id": "wPLZIYqKhvTF",
        "colab_type": "code",
        "colab": {}
      },
      "source": [
        "class LstmLangModel(nn.Module):\n",
        "   def __init__(self, batch_size, hidden_size, vocab_size, embeddings_length, weights):\n",
        "       super(LstmLangModel, self).__init__()\n",
        "       self.batch_size = batch_size\n",
        "       self.hidden_size = hidden_size\n",
        "       self.vocab_size = vocab_size\n",
        "       self.embed = nn.Embedding(vocab_size, embeddings_length)\n",
        "       self.embed.weight.data.copy_(weights)\n",
        "       self.lstm = nn.LSTM(embeddings_length, hidden_size, batch_first=True, num_layers=2)\n",
        "       self.fc = nn.Linear(hidden_size, vocab_size)\n",
        "   def forward(self, x, h):\n",
        "       x = self.embed(x)\n",
        "       output_seq, (h, c) = self.lstm(x, h)\n",
        "       out = output_seq.reshape(output_seq.size(0)*output_seq.size(1), output_seq.size(2))\n",
        "       out = self.fc(out)\n",
        "       return out, (h, c)\n",
        "\n"
      ],
      "execution_count": 0,
      "outputs": []
    },
    {
      "cell_type": "code",
      "metadata": {
        "id": "ySgb_BtfkbjZ",
        "colab_type": "code",
        "outputId": "bd8525ae-5edf-48f9-ef7b-3b915fb156b0",
        "colab": {
          "base_uri": "https://localhost:8080/",
          "height": 50
        }
      },
      "source": [
        "vocab_size = len(TEXT.vocab)\n",
        "word_embeddings = TEXT.vocab.vectors\n",
        "print(vocab_size)\n",
        "print(word_embeddings.size())\n",
        "embeddings_length = 300\n",
        "hidden_size = 256\n",
        "batch_size = 32"
      ],
      "execution_count": 0,
      "outputs": [
        {
          "output_type": "stream",
          "text": [
            "10001\n",
            "torch.Size([10001, 300])\n"
          ],
          "name": "stdout"
        }
      ]
    },
    {
      "cell_type": "code",
      "metadata": {
        "id": "O7h9zfUYkFEc",
        "colab_type": "code",
        "outputId": "2c8ff5af-7ef7-42a1-cfc5-bff85ec4a459",
        "colab": {
          "base_uri": "https://localhost:8080/",
          "height": 101
        }
      },
      "source": [
        "model = LstmLangModel(batch_size, hidden_size, vocab_size, embeddings_length, word_embeddings)\n",
        "model.eval()"
      ],
      "execution_count": 0,
      "outputs": [
        {
          "output_type": "execute_result",
          "data": {
            "text/plain": [
              "LstmLangModel(\n",
              "  (embed): Embedding(10001, 300)\n",
              "  (lstm): LSTM(300, 256, num_layers=2, batch_first=True)\n",
              "  (fc): Linear(in_features=256, out_features=10001, bias=True)\n",
              ")"
            ]
          },
          "metadata": {
            "tags": []
          },
          "execution_count": 7
        }
      ]
    },
    {
      "cell_type": "markdown",
      "metadata": {
        "id": "k6CWQqenmQ56",
        "colab_type": "text"
      },
      "source": [
        "# Torchbear Section"
      ]
    },
    {
      "cell_type": "code",
      "metadata": {
        "id": "BA9LO5RGSavT",
        "colab_type": "code",
        "outputId": "445f7721-cf5f-4568-a8b4-a354396b2fdf",
        "colab": {
          "base_uri": "https://localhost:8080/",
          "height": 154
        }
      },
      "source": [
        "!pip install adabound\n",
        "import adabound"
      ],
      "execution_count": 0,
      "outputs": [
        {
          "output_type": "stream",
          "text": [
            "Collecting adabound\n",
            "  Downloading https://files.pythonhosted.org/packages/cd/44/0c2c414effb3d9750d780b230dbb67ea48ddc5d9a6d7a9b7e6fcc6bdcff9/adabound-0.0.5-py3-none-any.whl\n",
            "Requirement already satisfied: torch>=0.4.0 in /usr/local/lib/python3.6/dist-packages (from adabound) (1.5.0+cu101)\n",
            "Requirement already satisfied: numpy in /usr/local/lib/python3.6/dist-packages (from torch>=0.4.0->adabound) (1.18.4)\n",
            "Requirement already satisfied: future in /usr/local/lib/python3.6/dist-packages (from torch>=0.4.0->adabound) (0.16.0)\n",
            "Installing collected packages: adabound\n",
            "Successfully installed adabound-0.0.5\n"
          ],
          "name": "stdout"
        }
      ]
    },
    {
      "cell_type": "code",
      "metadata": {
        "id": "TtOu1hMbjzbZ",
        "colab_type": "code",
        "outputId": "748333cd-19d4-49c7-f14b-9d5569196aea",
        "colab": {
          "base_uri": "https://localhost:8080/",
          "height": 1000
        }
      },
      "source": [
        "%%time\n",
        "device = 'cuda' if torch.cuda.is_available() else 'cpu'\n",
        "net_lstm = LstmLangModel(batch_size, hidden_size, vocab_size, embeddings_length, word_embeddings)\n",
        "net_lstm = net_lstm.to(device)\n",
        "criterion = nn.CrossEntropyLoss()\n",
        "# optim = torch.optim.Adam(filter(lambda p: p.requires_grad, net_lstm.parameters()))\n",
        "# optim = torch.optim.SGD(filter(lambda p: p.requires_grad, net_lstm.parameters()), lr=10, momentum=0.9, weight_decay=5e-4)\n",
        "# optim = torch.optim.Adam(filter(lambda p: p.requires_grad, net_lstm.parameters()), lr=0.001,betas=(0.99, 0.999), weight_decay=5e-4, amsgrad=True)\n",
        "optim = adabound.AdaBound(filter(lambda p: p.requires_grad, net_lstm.parameters()), lr=0.001, betas=(0.99, 0.999), final_lr=0.1, weight_decay=5e-4, amsbound=True)\n",
        "num_epochs = 200\n",
        "epoch_list = []\n",
        "train_loss_lstm_list = []\n",
        "train_perp_lstm_list = []\n",
        "test_loss_lstm_list = []\n",
        "test_perp_lstm_list = []\n",
        "\n",
        "def detach(states):\n",
        "   return [state.detach() for state in states]\n",
        "\n",
        "for epoch in range(num_epochs):\n",
        "   train_loss = 0\n",
        "   states = (torch.zeros(2, batch_size, hidden_size).to(device),\n",
        "             torch.zeros(2, batch_size, hidden_size).to(device))\n",
        "   net_lstm.train()\n",
        "\n",
        "   for i, batch in enumerate(train_iter):\n",
        "       text = batch.text.to(device)\n",
        "       labels = batch.target.to(device)\n",
        "       text = text.permute(1, 0)\n",
        "       labels = labels.permute(1, 0)\n",
        "\n",
        "       optim.zero_grad()\n",
        "       states = detach(states)\n",
        "       outputs, states = net_lstm(text, states)\n",
        "       loss = criterion(outputs, labels.reshape(-1))\n",
        "       train_loss += loss.item()\n",
        "       loss.backward()\n",
        "       optim.step()\n",
        "   avg_train_loss = train_loss / len(train_iter)\n",
        "   perplexity = np.exp(avg_train_loss)\n",
        "   print('Epoch [{}/{}],Train Loss: {:.4f}, Train Perplexity: {:5.2f}'.format(epoch + 1, num_epochs, avg_train_loss, perplexity))\n",
        "   train_loss_lstm_list.append(avg_train_loss)\n",
        "   train_perp_lstm_list.append(perplexity)\n",
        "\n",
        "\n",
        "   ##########################################################################\n",
        "   test_loss = 0\n",
        "   states = (torch.zeros(2, batch_size, hidden_size).to(device),\n",
        "             torch.zeros(2, batch_size, hidden_size).to(device))\n",
        "   net_lstm.eval()\n",
        "\n",
        "   for i, batch in enumerate(test_iter):\n",
        "       text = batch.text.to(device)\n",
        "       labels = batch.target.to(device)\n",
        "       text = text.permute(1, 0)\n",
        "       labels = labels.permute(1, 0)\n",
        "\n",
        "      #  optim.zero_grad()\n",
        "       states = detach(states)\n",
        "       outputs, states = net_lstm(text, states)\n",
        "       loss = criterion(outputs, labels.reshape(-1))\n",
        "       test_loss += loss.item()\n",
        "      #  loss.backward()\n",
        "      #  optim.step()\n",
        "   avg_test_loss = test_loss / len(test_iter)\n",
        "   perplexity = np.exp(avg_test_loss)\n",
        "   print('Epoch [{}/{}], Test Loss: {:.4f}, Test Perplexity: {:5.2f}'.format(epoch + 1, num_epochs, avg_test_loss, perplexity))\n",
        "   test_loss_lstm_list.append(avg_test_loss)\n",
        "   test_perp_lstm_list.append(perplexity)\n",
        "\n",
        "   if epoch % 100 == 0:\n",
        "       torch.save(net_lstm.state_dict(), r\"./LSTM_\" + str(epoch) + r\".pth\")\n",
        "   \n",
        "   if epoch == num_epochs - 1:\n",
        "       torch.save(net_lstm.state_dict(), r\"./LSTM_\" + str(epoch) + r\".pth\")"
      ],
      "execution_count": 0,
      "outputs": [
        {
          "output_type": "stream",
          "text": [
            "\r100%|█████████▉| 399843/400000 [00:50<00:00, 10397.97it/s]/pytorch/torch/csrc/utils/python_arg_parser.cpp:756: UserWarning: This overload of add is deprecated:\n",
            "\tadd(Number alpha, Tensor other)\n",
            "Consider using one of the following signatures instead:\n",
            "\tadd(Tensor other, *, Number alpha)\n"
          ],
          "name": "stderr"
        },
        {
          "output_type": "stream",
          "text": [
            "Epoch [1/200],Train Loss: 6.7334, Train Perplexity: 840.02\n",
            "Epoch [1/200], Test Loss: 6.4899, Test Perplexity: 658.43\n",
            "Epoch [2/200],Train Loss: 6.5548, Train Perplexity: 702.60\n",
            "Epoch [2/200], Test Loss: 6.4783, Test Perplexity: 650.86\n",
            "Epoch [3/200],Train Loss: 6.5458, Train Perplexity: 696.34\n",
            "Epoch [3/200], Test Loss: 6.4656, Test Perplexity: 642.64\n",
            "Epoch [4/200],Train Loss: 6.5217, Train Perplexity: 679.75\n",
            "Epoch [4/200], Test Loss: 6.4260, Test Perplexity: 617.70\n",
            "Epoch [5/200],Train Loss: 6.4760, Train Perplexity: 649.40\n",
            "Epoch [5/200], Test Loss: 6.3998, Test Perplexity: 601.75\n",
            "Epoch [6/200],Train Loss: 6.4507, Train Perplexity: 633.16\n",
            "Epoch [6/200], Test Loss: 6.3807, Test Perplexity: 590.35\n",
            "Epoch [7/200],Train Loss: 6.4303, Train Perplexity: 620.35\n",
            "Epoch [7/200], Test Loss: 6.3587, Test Perplexity: 577.47\n",
            "Epoch [8/200],Train Loss: 6.4017, Train Perplexity: 602.87\n",
            "Epoch [8/200], Test Loss: 6.3267, Test Perplexity: 559.31\n",
            "Epoch [9/200],Train Loss: 6.3685, Train Perplexity: 583.20\n",
            "Epoch [9/200], Test Loss: 6.2929, Test Perplexity: 540.73\n",
            "Epoch [10/200],Train Loss: 6.3304, Train Perplexity: 561.36\n",
            "Epoch [10/200], Test Loss: 6.2570, Test Perplexity: 521.65\n",
            "Epoch [11/200],Train Loss: 6.2889, Train Perplexity: 538.56\n",
            "Epoch [11/200], Test Loss: 6.2235, Test Perplexity: 504.46\n",
            "Epoch [12/200],Train Loss: 6.2530, Train Perplexity: 519.59\n",
            "Epoch [12/200], Test Loss: 6.1866, Test Perplexity: 486.21\n",
            "Epoch [13/200],Train Loss: 6.2198, Train Perplexity: 502.61\n",
            "Epoch [13/200], Test Loss: 6.1622, Test Perplexity: 474.47\n",
            "Epoch [14/200],Train Loss: 6.1913, Train Perplexity: 488.49\n",
            "Epoch [14/200], Test Loss: 6.1396, Test Perplexity: 463.86\n",
            "Epoch [15/200],Train Loss: 6.1652, Train Perplexity: 475.90\n",
            "Epoch [15/200], Test Loss: 6.1179, Test Perplexity: 453.89\n",
            "Epoch [16/200],Train Loss: 6.1424, Train Perplexity: 465.15\n",
            "Epoch [16/200], Test Loss: 6.0920, Test Perplexity: 442.30\n",
            "Epoch [17/200],Train Loss: 6.1174, Train Perplexity: 453.66\n",
            "Epoch [17/200], Test Loss: 6.0645, Test Perplexity: 430.30\n",
            "Epoch [18/200],Train Loss: 6.0971, Train Perplexity: 444.56\n",
            "Epoch [18/200], Test Loss: 6.0497, Test Perplexity: 423.97\n",
            "Epoch [19/200],Train Loss: 6.0721, Train Perplexity: 433.60\n",
            "Epoch [19/200], Test Loss: 6.0120, Test Perplexity: 408.30\n",
            "Epoch [20/200],Train Loss: 6.0458, Train Perplexity: 422.32\n",
            "Epoch [20/200], Test Loss: 5.9872, Test Perplexity: 398.28\n",
            "Epoch [21/200],Train Loss: 6.0220, Train Perplexity: 412.40\n",
            "Epoch [21/200], Test Loss: 5.9737, Test Perplexity: 392.95\n",
            "Epoch [22/200],Train Loss: 6.0023, Train Perplexity: 404.36\n",
            "Epoch [22/200], Test Loss: 5.9567, Test Perplexity: 386.32\n",
            "Epoch [23/200],Train Loss: 5.9817, Train Perplexity: 396.10\n",
            "Epoch [23/200], Test Loss: 5.9361, Test Perplexity: 378.44\n",
            "Epoch [24/200],Train Loss: 5.9637, Train Perplexity: 389.04\n",
            "Epoch [24/200], Test Loss: 5.9153, Test Perplexity: 370.66\n",
            "Epoch [25/200],Train Loss: 5.9448, Train Perplexity: 381.77\n",
            "Epoch [25/200], Test Loss: 5.9009, Test Perplexity: 365.37\n",
            "Epoch [26/200],Train Loss: 5.9295, Train Perplexity: 375.96\n",
            "Epoch [26/200], Test Loss: 5.8899, Test Perplexity: 361.36\n",
            "Epoch [27/200],Train Loss: 5.9180, Train Perplexity: 371.66\n",
            "Epoch [27/200], Test Loss: 5.8708, Test Perplexity: 354.53\n",
            "Epoch [28/200],Train Loss: 5.8966, Train Perplexity: 363.80\n",
            "Epoch [28/200], Test Loss: 5.8539, Test Perplexity: 348.60\n",
            "Epoch [29/200],Train Loss: 5.8856, Train Perplexity: 359.81\n",
            "Epoch [29/200], Test Loss: 5.8451, Test Perplexity: 345.53\n",
            "Epoch [30/200],Train Loss: 5.8751, Train Perplexity: 356.05\n",
            "Epoch [30/200], Test Loss: 5.8411, Test Perplexity: 344.17\n",
            "Epoch [31/200],Train Loss: 5.8625, Train Perplexity: 351.59\n",
            "Epoch [31/200], Test Loss: 5.8273, Test Perplexity: 339.45\n",
            "Epoch [32/200],Train Loss: 5.8505, Train Perplexity: 347.42\n",
            "Epoch [32/200], Test Loss: 5.8186, Test Perplexity: 336.49\n",
            "Epoch [33/200],Train Loss: 5.8443, Train Perplexity: 345.24\n",
            "Epoch [33/200], Test Loss: 5.8126, Test Perplexity: 334.50\n",
            "Epoch [34/200],Train Loss: 5.8273, Train Perplexity: 339.44\n",
            "Epoch [34/200], Test Loss: 5.8300, Test Perplexity: 340.37\n",
            "Epoch [35/200],Train Loss: 5.8237, Train Perplexity: 338.23\n",
            "Epoch [35/200], Test Loss: 5.8072, Test Perplexity: 332.70\n",
            "Epoch [36/200],Train Loss: 5.8093, Train Perplexity: 333.39\n",
            "Epoch [36/200], Test Loss: 5.7823, Test Perplexity: 324.51\n",
            "Epoch [37/200],Train Loss: 5.7953, Train Perplexity: 328.76\n",
            "Epoch [37/200], Test Loss: 5.7776, Test Perplexity: 322.99\n",
            "Epoch [38/200],Train Loss: 5.7949, Train Perplexity: 328.60\n",
            "Epoch [38/200], Test Loss: 5.7822, Test Perplexity: 324.46\n",
            "Epoch [39/200],Train Loss: 5.7861, Train Perplexity: 325.74\n",
            "Epoch [39/200], Test Loss: 5.7612, Test Perplexity: 317.72\n",
            "Epoch [40/200],Train Loss: 5.7773, Train Perplexity: 322.88\n",
            "Epoch [40/200], Test Loss: 5.7535, Test Perplexity: 315.31\n",
            "Epoch [41/200],Train Loss: 5.7745, Train Perplexity: 321.99\n",
            "Epoch [41/200], Test Loss: 5.7583, Test Perplexity: 316.82\n",
            "Epoch [42/200],Train Loss: 5.7652, Train Perplexity: 318.99\n",
            "Epoch [42/200], Test Loss: 5.7544, Test Perplexity: 315.58\n",
            "Epoch [43/200],Train Loss: 5.7483, Train Perplexity: 313.67\n",
            "Epoch [43/200], Test Loss: 5.7333, Test Perplexity: 308.99\n",
            "Epoch [44/200],Train Loss: 5.7445, Train Perplexity: 312.47\n",
            "Epoch [44/200], Test Loss: 5.7265, Test Perplexity: 306.91\n",
            "Epoch [45/200],Train Loss: 5.7425, Train Perplexity: 311.84\n",
            "Epoch [45/200], Test Loss: 5.7369, Test Perplexity: 310.11\n",
            "Epoch [46/200],Train Loss: 5.7442, Train Perplexity: 312.36\n",
            "Epoch [46/200], Test Loss: 5.7196, Test Perplexity: 304.79\n",
            "Epoch [47/200],Train Loss: 5.7300, Train Perplexity: 307.96\n",
            "Epoch [47/200], Test Loss: 5.7175, Test Perplexity: 304.15\n",
            "Epoch [48/200],Train Loss: 5.7161, Train Perplexity: 303.71\n",
            "Epoch [48/200], Test Loss: 5.6924, Test Perplexity: 296.59\n",
            "Epoch [49/200],Train Loss: 5.7127, Train Perplexity: 302.70\n",
            "Epoch [49/200], Test Loss: 5.7017, Test Perplexity: 299.38\n",
            "Epoch [50/200],Train Loss: 5.7024, Train Perplexity: 299.60\n",
            "Epoch [50/200], Test Loss: 5.6952, Test Perplexity: 297.44\n",
            "Epoch [51/200],Train Loss: 5.7048, Train Perplexity: 300.30\n",
            "Epoch [51/200], Test Loss: 5.6964, Test Perplexity: 297.80\n",
            "Epoch [52/200],Train Loss: 5.6921, Train Perplexity: 296.51\n",
            "Epoch [52/200], Test Loss: 5.6683, Test Perplexity: 289.53\n",
            "Epoch [53/200],Train Loss: 5.6913, Train Perplexity: 296.27\n",
            "Epoch [53/200], Test Loss: 5.6941, Test Perplexity: 297.10\n",
            "Epoch [54/200],Train Loss: 5.6950, Train Perplexity: 297.36\n",
            "Epoch [54/200], Test Loss: 5.6852, Test Perplexity: 294.49\n",
            "Epoch [55/200],Train Loss: 5.6756, Train Perplexity: 291.66\n",
            "Epoch [55/200], Test Loss: 5.6866, Test Perplexity: 294.89\n",
            "Epoch [56/200],Train Loss: 5.6792, Train Perplexity: 292.72\n",
            "Epoch [56/200], Test Loss: 5.6951, Test Perplexity: 297.41\n",
            "Epoch [57/200],Train Loss: 5.6801, Train Perplexity: 292.98\n",
            "Epoch [57/200], Test Loss: 5.6602, Test Perplexity: 287.22\n",
            "Epoch [58/200],Train Loss: 5.6732, Train Perplexity: 290.98\n",
            "Epoch [58/200], Test Loss: 5.6558, Test Perplexity: 285.93\n",
            "Epoch [59/200],Train Loss: 5.6615, Train Perplexity: 287.59\n",
            "Epoch [59/200], Test Loss: 5.6566, Test Perplexity: 286.16\n",
            "Epoch [60/200],Train Loss: 5.6662, Train Perplexity: 288.94\n",
            "Epoch [60/200], Test Loss: 5.6415, Test Perplexity: 281.87\n",
            "Epoch [61/200],Train Loss: 5.6461, Train Perplexity: 283.20\n",
            "Epoch [61/200], Test Loss: 5.6294, Test Perplexity: 278.50\n",
            "Epoch [62/200],Train Loss: 5.6461, Train Perplexity: 283.19\n",
            "Epoch [62/200], Test Loss: 5.6756, Test Perplexity: 291.65\n",
            "Epoch [63/200],Train Loss: 5.6445, Train Perplexity: 282.73\n",
            "Epoch [63/200], Test Loss: 5.6232, Test Perplexity: 276.77\n",
            "Epoch [64/200],Train Loss: 5.6359, Train Perplexity: 280.30\n",
            "Epoch [64/200], Test Loss: 5.6230, Test Perplexity: 276.71\n",
            "Epoch [65/200],Train Loss: 5.6356, Train Perplexity: 280.24\n",
            "Epoch [65/200], Test Loss: 5.6188, Test Perplexity: 275.56\n",
            "Epoch [66/200],Train Loss: 5.6355, Train Perplexity: 280.20\n",
            "Epoch [66/200], Test Loss: 5.6287, Test Perplexity: 278.31\n",
            "Epoch [67/200],Train Loss: 5.6223, Train Perplexity: 276.54\n",
            "Epoch [67/200], Test Loss: 5.6259, Test Perplexity: 277.52\n",
            "Epoch [68/200],Train Loss: 5.6302, Train Perplexity: 278.70\n",
            "Epoch [68/200], Test Loss: 5.6104, Test Perplexity: 273.26\n",
            "Epoch [69/200],Train Loss: 5.6326, Train Perplexity: 279.38\n",
            "Epoch [69/200], Test Loss: 5.6351, Test Perplexity: 280.10\n",
            "Epoch [70/200],Train Loss: 5.6272, Train Perplexity: 277.88\n",
            "Epoch [70/200], Test Loss: 5.6468, Test Perplexity: 283.39\n",
            "Epoch [71/200],Train Loss: 5.6186, Train Perplexity: 275.50\n",
            "Epoch [71/200], Test Loss: 5.6102, Test Perplexity: 273.20\n",
            "Epoch [72/200],Train Loss: 5.6208, Train Perplexity: 276.10\n",
            "Epoch [72/200], Test Loss: 5.6172, Test Perplexity: 275.11\n",
            "Epoch [73/200],Train Loss: 5.6069, Train Perplexity: 272.29\n",
            "Epoch [73/200], Test Loss: 5.6142, Test Perplexity: 274.30\n",
            "Epoch [74/200],Train Loss: 5.6081, Train Perplexity: 272.62\n",
            "Epoch [74/200], Test Loss: 5.6098, Test Perplexity: 273.09\n",
            "Epoch [75/200],Train Loss: 5.6116, Train Perplexity: 273.58\n",
            "Epoch [75/200], Test Loss: 5.5936, Test Perplexity: 268.71\n",
            "Epoch [76/200],Train Loss: 5.6162, Train Perplexity: 274.84\n",
            "Epoch [76/200], Test Loss: 5.6091, Test Perplexity: 272.90\n",
            "Epoch [77/200],Train Loss: 5.6040, Train Perplexity: 271.51\n",
            "Epoch [77/200], Test Loss: 5.5990, Test Perplexity: 270.16\n",
            "Epoch [78/200],Train Loss: 5.6022, Train Perplexity: 271.04\n",
            "Epoch [78/200], Test Loss: 5.5956, Test Perplexity: 269.24\n",
            "Epoch [79/200],Train Loss: 5.5880, Train Perplexity: 267.20\n",
            "Epoch [79/200], Test Loss: 5.5847, Test Perplexity: 266.33\n",
            "Epoch [80/200],Train Loss: 5.5905, Train Perplexity: 267.87\n",
            "Epoch [80/200], Test Loss: 5.6217, Test Perplexity: 276.35\n",
            "Epoch [81/200],Train Loss: 5.5926, Train Perplexity: 268.43\n",
            "Epoch [81/200], Test Loss: 5.6027, Test Perplexity: 271.16\n",
            "Epoch [82/200],Train Loss: 5.5876, Train Perplexity: 267.09\n",
            "Epoch [82/200], Test Loss: 5.5932, Test Perplexity: 268.59\n",
            "Epoch [83/200],Train Loss: 5.5794, Train Perplexity: 264.92\n",
            "Epoch [83/200], Test Loss: 5.5906, Test Perplexity: 267.90\n",
            "Epoch [84/200],Train Loss: 5.5718, Train Perplexity: 262.90\n",
            "Epoch [84/200], Test Loss: 5.5956, Test Perplexity: 269.25\n",
            "Epoch [85/200],Train Loss: 5.5878, Train Perplexity: 267.16\n",
            "Epoch [85/200], Test Loss: 5.5705, Test Perplexity: 262.57\n",
            "Epoch [86/200],Train Loss: 5.5773, Train Perplexity: 264.35\n",
            "Epoch [86/200], Test Loss: 5.5711, Test Perplexity: 262.73\n",
            "Epoch [87/200],Train Loss: 5.5771, Train Perplexity: 264.31\n",
            "Epoch [87/200], Test Loss: 5.5859, Test Perplexity: 266.63\n",
            "Epoch [88/200],Train Loss: 5.5631, Train Perplexity: 260.64\n",
            "Epoch [88/200], Test Loss: 5.5591, Test Perplexity: 259.58\n",
            "Epoch [89/200],Train Loss: 5.5641, Train Perplexity: 260.90\n",
            "Epoch [89/200], Test Loss: 5.5918, Test Perplexity: 268.21\n",
            "Epoch [90/200],Train Loss: 5.5660, Train Perplexity: 261.39\n",
            "Epoch [90/200], Test Loss: 5.5674, Test Perplexity: 261.76\n",
            "Epoch [91/200],Train Loss: 5.5581, Train Perplexity: 259.32\n",
            "Epoch [91/200], Test Loss: 5.5617, Test Perplexity: 260.27\n",
            "Epoch [92/200],Train Loss: 5.5562, Train Perplexity: 258.85\n",
            "Epoch [92/200], Test Loss: 5.5625, Test Perplexity: 260.48\n",
            "Epoch [93/200],Train Loss: 5.5691, Train Perplexity: 262.19\n",
            "Epoch [93/200], Test Loss: 5.5875, Test Perplexity: 267.07\n",
            "Epoch [94/200],Train Loss: 5.5585, Train Perplexity: 259.42\n",
            "Epoch [94/200], Test Loss: 5.5630, Test Perplexity: 260.61\n",
            "Epoch [95/200],Train Loss: 5.5610, Train Perplexity: 260.09\n",
            "Epoch [95/200], Test Loss: 5.5709, Test Perplexity: 262.66\n",
            "Epoch [96/200],Train Loss: 5.5406, Train Perplexity: 254.84\n",
            "Epoch [96/200], Test Loss: 5.5455, Test Perplexity: 256.08\n",
            "Epoch [97/200],Train Loss: 5.5438, Train Perplexity: 255.65\n",
            "Epoch [97/200], Test Loss: 5.5649, Test Perplexity: 261.09\n",
            "Epoch [98/200],Train Loss: 5.5448, Train Perplexity: 255.91\n",
            "Epoch [98/200], Test Loss: 5.5491, Test Perplexity: 257.02\n",
            "Epoch [99/200],Train Loss: 5.5504, Train Perplexity: 257.33\n",
            "Epoch [99/200], Test Loss: 5.5430, Test Perplexity: 255.44\n",
            "Epoch [100/200],Train Loss: 5.5392, Train Perplexity: 254.46\n",
            "Epoch [100/200], Test Loss: 5.5461, Test Perplexity: 256.24\n",
            "Epoch [101/200],Train Loss: 5.5528, Train Perplexity: 257.96\n",
            "Epoch [101/200], Test Loss: 5.5519, Test Perplexity: 257.73\n",
            "Epoch [102/200],Train Loss: 5.5443, Train Perplexity: 255.77\n",
            "Epoch [102/200], Test Loss: 5.5491, Test Perplexity: 257.01\n",
            "Epoch [103/200],Train Loss: 5.5358, Train Perplexity: 253.62\n",
            "Epoch [103/200], Test Loss: 5.5487, Test Perplexity: 256.90\n",
            "Epoch [104/200],Train Loss: 5.5415, Train Perplexity: 255.07\n",
            "Epoch [104/200], Test Loss: 5.5524, Test Perplexity: 257.87\n",
            "Epoch [105/200],Train Loss: 5.5423, Train Perplexity: 255.28\n",
            "Epoch [105/200], Test Loss: 5.5588, Test Perplexity: 259.51\n",
            "Epoch [106/200],Train Loss: 5.5336, Train Perplexity: 253.06\n",
            "Epoch [106/200], Test Loss: 5.5306, Test Perplexity: 252.29\n",
            "Epoch [107/200],Train Loss: 5.5326, Train Perplexity: 252.80\n",
            "Epoch [107/200], Test Loss: 5.5591, Test Perplexity: 259.59\n",
            "Epoch [108/200],Train Loss: 5.5238, Train Perplexity: 250.59\n",
            "Epoch [108/200], Test Loss: 5.5400, Test Perplexity: 254.67\n",
            "Epoch [109/200],Train Loss: 5.5321, Train Perplexity: 252.69\n",
            "Epoch [109/200], Test Loss: 5.5714, Test Perplexity: 262.79\n",
            "Epoch [110/200],Train Loss: 5.5303, Train Perplexity: 252.21\n",
            "Epoch [110/200], Test Loss: 5.5214, Test Perplexity: 249.98\n",
            "Epoch [111/200],Train Loss: 5.5134, Train Perplexity: 248.00\n",
            "Epoch [111/200], Test Loss: 5.5359, Test Perplexity: 253.63\n",
            "Epoch [112/200],Train Loss: 5.5319, Train Perplexity: 252.61\n",
            "Epoch [112/200], Test Loss: 5.5291, Test Perplexity: 251.92\n",
            "Epoch [113/200],Train Loss: 5.5362, Train Perplexity: 253.72\n",
            "Epoch [113/200], Test Loss: 5.5328, Test Perplexity: 252.84\n",
            "Epoch [114/200],Train Loss: 5.5323, Train Perplexity: 252.74\n",
            "Epoch [114/200], Test Loss: 5.5342, Test Perplexity: 253.20\n",
            "Epoch [115/200],Train Loss: 5.5237, Train Perplexity: 250.55\n",
            "Epoch [115/200], Test Loss: 5.5398, Test Perplexity: 254.62\n",
            "Epoch [116/200],Train Loss: 5.5283, Train Perplexity: 251.71\n",
            "Epoch [116/200], Test Loss: 5.5341, Test Perplexity: 253.19\n",
            "Epoch [117/200],Train Loss: 5.5188, Train Perplexity: 249.34\n",
            "Epoch [117/200], Test Loss: 5.5224, Test Perplexity: 250.23\n",
            "Epoch [118/200],Train Loss: 5.5141, Train Perplexity: 248.17\n",
            "Epoch [118/200], Test Loss: 5.5188, Test Perplexity: 249.34\n",
            "Epoch [119/200],Train Loss: 5.5254, Train Perplexity: 250.98\n",
            "Epoch [119/200], Test Loss: 5.5185, Test Perplexity: 249.26\n",
            "Epoch [120/200],Train Loss: 5.5097, Train Perplexity: 247.09\n",
            "Epoch [120/200], Test Loss: 5.5168, Test Perplexity: 248.84\n",
            "Epoch [121/200],Train Loss: 5.5199, Train Perplexity: 249.62\n",
            "Epoch [121/200], Test Loss: 5.5359, Test Perplexity: 253.65\n",
            "Epoch [122/200],Train Loss: 5.5088, Train Perplexity: 246.86\n",
            "Epoch [122/200], Test Loss: 5.5202, Test Perplexity: 249.69\n",
            "Epoch [123/200],Train Loss: 5.5240, Train Perplexity: 250.63\n",
            "Epoch [123/200], Test Loss: 5.5202, Test Perplexity: 249.70\n",
            "Epoch [124/200],Train Loss: 5.5133, Train Perplexity: 247.97\n",
            "Epoch [124/200], Test Loss: 5.5201, Test Perplexity: 249.66\n",
            "Epoch [125/200],Train Loss: 5.5109, Train Perplexity: 247.39\n",
            "Epoch [125/200], Test Loss: 5.5155, Test Perplexity: 248.52\n",
            "Epoch [126/200],Train Loss: 5.5269, Train Perplexity: 251.36\n",
            "Epoch [126/200], Test Loss: 5.5508, Test Perplexity: 257.44\n",
            "Epoch [127/200],Train Loss: 5.5154, Train Perplexity: 248.49\n",
            "Epoch [127/200], Test Loss: 5.5263, Test Perplexity: 251.22\n",
            "Epoch [128/200],Train Loss: 5.5123, Train Perplexity: 247.71\n",
            "Epoch [128/200], Test Loss: 5.5078, Test Perplexity: 246.61\n",
            "Epoch [129/200],Train Loss: 5.5045, Train Perplexity: 245.80\n",
            "Epoch [129/200], Test Loss: 5.5296, Test Perplexity: 252.04\n",
            "Epoch [130/200],Train Loss: 5.5199, Train Perplexity: 249.62\n",
            "Epoch [130/200], Test Loss: 5.5660, Test Perplexity: 261.39\n",
            "Epoch [131/200],Train Loss: 5.5088, Train Perplexity: 246.85\n",
            "Epoch [131/200], Test Loss: 5.5032, Test Perplexity: 245.47\n",
            "Epoch [132/200],Train Loss: 5.5068, Train Perplexity: 246.36\n",
            "Epoch [132/200], Test Loss: 5.5240, Test Perplexity: 250.64\n",
            "Epoch [133/200],Train Loss: 5.4957, Train Perplexity: 243.65\n",
            "Epoch [133/200], Test Loss: 5.5026, Test Perplexity: 245.33\n",
            "Epoch [134/200],Train Loss: 5.5011, Train Perplexity: 244.96\n",
            "Epoch [134/200], Test Loss: 5.5070, Test Perplexity: 246.40\n",
            "Epoch [135/200],Train Loss: 5.5088, Train Perplexity: 246.86\n",
            "Epoch [135/200], Test Loss: 5.5118, Test Perplexity: 247.61\n",
            "Epoch [136/200],Train Loss: 5.4983, Train Perplexity: 244.27\n",
            "Epoch [136/200], Test Loss: 5.5020, Test Perplexity: 245.19\n",
            "Epoch [137/200],Train Loss: 5.4983, Train Perplexity: 244.27\n",
            "Epoch [137/200], Test Loss: 5.5034, Test Perplexity: 245.53\n",
            "Epoch [138/200],Train Loss: 5.4877, Train Perplexity: 241.71\n",
            "Epoch [138/200], Test Loss: 5.4958, Test Perplexity: 243.68\n",
            "Epoch [139/200],Train Loss: 5.4994, Train Perplexity: 244.54\n",
            "Epoch [139/200], Test Loss: 5.5299, Test Perplexity: 252.12\n",
            "Epoch [140/200],Train Loss: 5.5033, Train Perplexity: 245.50\n",
            "Epoch [140/200], Test Loss: 5.5017, Test Perplexity: 245.11\n",
            "Epoch [141/200],Train Loss: 5.4852, Train Perplexity: 241.10\n",
            "Epoch [141/200], Test Loss: 5.5059, Test Perplexity: 246.14\n",
            "Epoch [142/200],Train Loss: 5.4947, Train Perplexity: 243.40\n",
            "Epoch [142/200], Test Loss: 5.5121, Test Perplexity: 247.66\n",
            "Epoch [143/200],Train Loss: 5.4920, Train Perplexity: 242.73\n",
            "Epoch [143/200], Test Loss: 5.5152, Test Perplexity: 248.45\n",
            "Epoch [144/200],Train Loss: 5.4891, Train Perplexity: 242.04\n",
            "Epoch [144/200], Test Loss: 5.5070, Test Perplexity: 246.42\n",
            "Epoch [145/200],Train Loss: 5.5063, Train Perplexity: 246.24\n",
            "Epoch [145/200], Test Loss: 5.5535, Test Perplexity: 258.15\n",
            "Epoch [146/200],Train Loss: 5.4917, Train Perplexity: 242.66\n",
            "Epoch [146/200], Test Loss: 5.4944, Test Perplexity: 243.33\n",
            "Epoch [147/200],Train Loss: 5.4825, Train Perplexity: 240.44\n",
            "Epoch [147/200], Test Loss: 5.4925, Test Perplexity: 242.87\n",
            "Epoch [148/200],Train Loss: 5.4927, Train Perplexity: 242.92\n",
            "Epoch [148/200], Test Loss: 5.5052, Test Perplexity: 245.97\n",
            "Epoch [149/200],Train Loss: 5.4874, Train Perplexity: 241.62\n",
            "Epoch [149/200], Test Loss: 5.5001, Test Perplexity: 244.71\n",
            "Epoch [150/200],Train Loss: 5.4856, Train Perplexity: 241.21\n",
            "Epoch [150/200], Test Loss: 5.5077, Test Perplexity: 246.59\n",
            "Epoch [151/200],Train Loss: 5.4853, Train Perplexity: 241.12\n",
            "Epoch [151/200], Test Loss: 5.4903, Test Perplexity: 242.32\n",
            "Epoch [152/200],Train Loss: 5.4768, Train Perplexity: 239.09\n",
            "Epoch [152/200], Test Loss: 5.5025, Test Perplexity: 245.30\n",
            "Epoch [153/200],Train Loss: 5.4861, Train Perplexity: 241.32\n",
            "Epoch [153/200], Test Loss: 5.4857, Test Perplexity: 241.22\n",
            "Epoch [154/200],Train Loss: 5.4792, Train Perplexity: 239.66\n",
            "Epoch [154/200], Test Loss: 5.4963, Test Perplexity: 243.79\n",
            "Epoch [155/200],Train Loss: 5.4798, Train Perplexity: 239.81\n",
            "Epoch [155/200], Test Loss: 5.5034, Test Perplexity: 245.52\n",
            "Epoch [156/200],Train Loss: 5.4855, Train Perplexity: 241.16\n",
            "Epoch [156/200], Test Loss: 5.4992, Test Perplexity: 244.50\n",
            "Epoch [157/200],Train Loss: 5.4868, Train Perplexity: 241.49\n",
            "Epoch [157/200], Test Loss: 5.4841, Test Perplexity: 240.82\n",
            "Epoch [158/200],Train Loss: 5.4791, Train Perplexity: 239.64\n",
            "Epoch [158/200], Test Loss: 5.5092, Test Perplexity: 246.96\n",
            "Epoch [159/200],Train Loss: 5.4789, Train Perplexity: 239.59\n",
            "Epoch [159/200], Test Loss: 5.4947, Test Perplexity: 243.40\n",
            "Epoch [160/200],Train Loss: 5.4847, Train Perplexity: 240.98\n",
            "Epoch [160/200], Test Loss: 5.4889, Test Perplexity: 241.98\n",
            "Epoch [161/200],Train Loss: 5.4774, Train Perplexity: 239.22\n",
            "Epoch [161/200], Test Loss: 5.5093, Test Perplexity: 246.98\n",
            "Epoch [162/200],Train Loss: 5.4749, Train Perplexity: 238.62\n",
            "Epoch [162/200], Test Loss: 5.4665, Test Perplexity: 236.64\n",
            "Epoch [163/200],Train Loss: 5.4877, Train Perplexity: 241.69\n",
            "Epoch [163/200], Test Loss: 5.4719, Test Perplexity: 237.91\n",
            "Epoch [164/200],Train Loss: 5.4707, Train Perplexity: 237.63\n",
            "Epoch [164/200], Test Loss: 5.4849, Test Perplexity: 241.03\n",
            "Epoch [165/200],Train Loss: 5.4700, Train Perplexity: 237.47\n",
            "Epoch [165/200], Test Loss: 5.4967, Test Perplexity: 243.88\n",
            "Epoch [166/200],Train Loss: 5.4849, Train Perplexity: 241.03\n",
            "Epoch [166/200], Test Loss: 5.4714, Test Perplexity: 237.79\n",
            "Epoch [167/200],Train Loss: 5.4666, Train Perplexity: 236.66\n",
            "Epoch [167/200], Test Loss: 5.4723, Test Perplexity: 238.00\n",
            "Epoch [168/200],Train Loss: 5.4709, Train Perplexity: 237.66\n",
            "Epoch [168/200], Test Loss: 5.4870, Test Perplexity: 241.54\n",
            "Epoch [169/200],Train Loss: 5.4702, Train Perplexity: 237.50\n",
            "Epoch [169/200], Test Loss: 5.4949, Test Perplexity: 243.45\n",
            "Epoch [170/200],Train Loss: 5.4696, Train Perplexity: 237.38\n",
            "Epoch [170/200], Test Loss: 5.4738, Test Perplexity: 238.36\n",
            "Epoch [171/200],Train Loss: 5.4871, Train Perplexity: 241.55\n",
            "Epoch [171/200], Test Loss: 5.5470, Test Perplexity: 256.48\n",
            "Epoch [172/200],Train Loss: 5.4751, Train Perplexity: 238.67\n",
            "Epoch [172/200], Test Loss: 5.5142, Test Perplexity: 248.18\n",
            "Epoch [173/200],Train Loss: 5.4681, Train Perplexity: 237.01\n",
            "Epoch [173/200], Test Loss: 5.4736, Test Perplexity: 238.31\n",
            "Epoch [174/200],Train Loss: 5.4687, Train Perplexity: 237.16\n",
            "Epoch [174/200], Test Loss: 5.4802, Test Perplexity: 239.89\n",
            "Epoch [175/200],Train Loss: 5.4713, Train Perplexity: 237.77\n",
            "Epoch [175/200], Test Loss: 5.4791, Test Perplexity: 239.62\n",
            "Epoch [176/200],Train Loss: 5.4660, Train Perplexity: 236.50\n",
            "Epoch [176/200], Test Loss: 5.4850, Test Perplexity: 241.04\n",
            "Epoch [177/200],Train Loss: 5.4841, Train Perplexity: 240.83\n",
            "Epoch [177/200], Test Loss: 5.4789, Test Perplexity: 239.59\n",
            "Epoch [178/200],Train Loss: 5.4654, Train Perplexity: 236.37\n",
            "Epoch [178/200], Test Loss: 5.4970, Test Perplexity: 243.96\n",
            "Epoch [179/200],Train Loss: 5.4797, Train Perplexity: 239.78\n",
            "Epoch [179/200], Test Loss: 5.4786, Test Perplexity: 239.51\n",
            "Epoch [180/200],Train Loss: 5.4675, Train Perplexity: 236.87\n",
            "Epoch [180/200], Test Loss: 5.4729, Test Perplexity: 238.15\n",
            "Epoch [181/200],Train Loss: 5.4709, Train Perplexity: 237.66\n",
            "Epoch [181/200], Test Loss: 5.4735, Test Perplexity: 238.30\n",
            "Epoch [182/200],Train Loss: 5.4789, Train Perplexity: 239.59\n",
            "Epoch [182/200], Test Loss: 5.4738, Test Perplexity: 238.37\n",
            "Epoch [183/200],Train Loss: 5.4599, Train Perplexity: 235.07\n",
            "Epoch [183/200], Test Loss: 5.4675, Test Perplexity: 236.86\n",
            "Epoch [184/200],Train Loss: 5.4609, Train Perplexity: 235.31\n",
            "Epoch [184/200], Test Loss: 5.4791, Test Perplexity: 239.64\n",
            "Epoch [185/200],Train Loss: 5.4688, Train Perplexity: 237.19\n",
            "Epoch [185/200], Test Loss: 5.4744, Test Perplexity: 238.50\n",
            "Epoch [186/200],Train Loss: 5.4695, Train Perplexity: 237.33\n",
            "Epoch [186/200], Test Loss: 5.4974, Test Perplexity: 244.06\n",
            "Epoch [187/200],Train Loss: 5.4787, Train Perplexity: 239.53\n",
            "Epoch [187/200], Test Loss: 5.4951, Test Perplexity: 243.50\n",
            "Epoch [188/200],Train Loss: 5.4636, Train Perplexity: 235.94\n",
            "Epoch [188/200], Test Loss: 5.4607, Test Perplexity: 235.27\n",
            "Epoch [189/200],Train Loss: 5.4647, Train Perplexity: 236.21\n",
            "Epoch [189/200], Test Loss: 5.4781, Test Perplexity: 239.39\n",
            "Epoch [190/200],Train Loss: 5.4546, Train Perplexity: 233.83\n",
            "Epoch [190/200], Test Loss: 5.4669, Test Perplexity: 236.73\n",
            "Epoch [191/200],Train Loss: 5.4713, Train Perplexity: 237.76\n",
            "Epoch [191/200], Test Loss: 5.4696, Test Perplexity: 237.37\n",
            "Epoch [192/200],Train Loss: 5.4737, Train Perplexity: 238.33\n",
            "Epoch [192/200], Test Loss: 5.4758, Test Perplexity: 238.84\n",
            "Epoch [193/200],Train Loss: 5.4620, Train Perplexity: 235.56\n",
            "Epoch [193/200], Test Loss: 5.4740, Test Perplexity: 238.42\n",
            "Epoch [194/200],Train Loss: 5.4545, Train Perplexity: 233.82\n",
            "Epoch [194/200], Test Loss: 5.4755, Test Perplexity: 238.77\n",
            "Epoch [195/200],Train Loss: 5.4618, Train Perplexity: 235.53\n",
            "Epoch [195/200], Test Loss: 5.4711, Test Perplexity: 237.72\n",
            "Epoch [196/200],Train Loss: 5.4741, Train Perplexity: 238.44\n",
            "Epoch [196/200], Test Loss: 5.4777, Test Perplexity: 239.30\n",
            "Epoch [197/200],Train Loss: 5.4679, Train Perplexity: 236.96\n",
            "Epoch [197/200], Test Loss: 5.4783, Test Perplexity: 239.43\n",
            "Epoch [198/200],Train Loss: 5.4660, Train Perplexity: 236.51\n",
            "Epoch [198/200], Test Loss: 5.4659, Test Perplexity: 236.50\n",
            "Epoch [199/200],Train Loss: 5.4733, Train Perplexity: 238.24\n",
            "Epoch [199/200], Test Loss: 5.5252, Test Perplexity: 250.93\n",
            "Epoch [200/200],Train Loss: 5.4583, Train Perplexity: 234.70\n",
            "Epoch [200/200], Test Loss: 5.4821, Test Perplexity: 240.34\n",
            "CPU times: user 27min 12s, sys: 6min 50s, total: 34min 3s\n",
            "Wall time: 34min 14s\n"
          ],
          "name": "stdout"
        }
      ]
    },
    {
      "cell_type": "code",
      "metadata": {
        "id": "6R-YTYn6d9MI",
        "colab_type": "code",
        "colab": {}
      },
      "source": [
        ""
      ],
      "execution_count": 0,
      "outputs": []
    },
    {
      "cell_type": "code",
      "metadata": {
        "id": "dEQhrEEk7ruw",
        "colab_type": "code",
        "colab": {}
      },
      "source": [
        "import pandas as pd"
      ],
      "execution_count": 0,
      "outputs": []
    },
    {
      "cell_type": "code",
      "metadata": {
        "id": "YXE8LWcD3VUt",
        "colab_type": "code",
        "outputId": "d98ed3fd-694f-4247-ad5a-6c0062f90728",
        "colab": {
          "base_uri": "https://localhost:8080/",
          "height": 780
        }
      },
      "source": [
        "frame = pd.DataFrame(zip(train_loss_lstm_list,train_perp_lstm_list, test_loss_lstm_list,test_perp_lstm_list))\n",
        "frame.columns = ['train_loss','train_perp','test_loss','test_perp']\n",
        "frame.to_csv('AMSBound_test_2_LSTM.csv')\n",
        "\n",
        "plt.figure(figsize=(10,6))\n",
        "plt.title('SGD default lr, 200 epochs, reduce lr on plateau on 150 epoch')\n",
        "plt.plot(range(200),frame['test_loss'])\n",
        "\n",
        "\n",
        "plt.figure(figsize=(10,6))\n",
        "plt.title('SGD default lr, 200 epochs, reduce lr on plateau on 150 epoch')\n",
        "plt.plot(range(200),frame['test_perp'])"
      ],
      "execution_count": 0,
      "outputs": [
        {
          "output_type": "execute_result",
          "data": {
            "text/plain": [
              "[<matplotlib.lines.Line2D at 0x7fda2bcb8d30>]"
            ]
          },
          "metadata": {
            "tags": []
          },
          "execution_count": 12
        },
        {
          "output_type": "display_data",
          "data": {
            "image/png": "[encoded data removed]",
            "text/plain": [
              "<Figure size 720x432 with 1 Axes>"
            ]
          },
          "metadata": {
            "tags": [],
            "needs_background": "light"
          }
        },
        {
          "output_type": "display_data",
          "data": {
            "image/png": "[encoded data removed]",
            "text/plain": [
              "<Figure size 720x432 with 1 Axes>"
            ]
          },
          "metadata": {
            "tags": [],
            "needs_background": "light"
          }
        }
      ]
    },
    {
      "cell_type": "code",
      "metadata": {
        "id": "z3BhxIq0zKDg",
        "colab_type": "code",
        "colab": {}
      },
      "source": [
        ""
      ],
      "execution_count": 0,
      "outputs": []
    }
  ]
}